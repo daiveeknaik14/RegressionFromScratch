{
  "nbformat": 4,
  "nbformat_minor": 0,
  "metadata": {
    "colab": {
      "name": "RegressionFromScratch",
      "provenance": [],
      "collapsed_sections": [],
      "authorship_tag": "ABX9TyPXnSEMVzSpGtRUwM8+ttVR",
      "include_colab_link": true
    },
    "kernelspec": {
      "name": "python3",
      "display_name": "Python 3"
    }
  },
  "cells": [
    {
      "cell_type": "markdown",
      "metadata": {
        "id": "view-in-github",
        "colab_type": "text"
      },
      "source": [
        "<a href=\"https://colab.research.google.com/github/daiveeknaik14/RegressionFromScratch/blob/master/RegressionFromScratch.ipynb\" target=\"_parent\"><img src=\"https://colab.research.google.com/assets/colab-badge.svg\" alt=\"Open In Colab\"/></a>"
      ]
    },
    {
      "cell_type": "markdown",
      "metadata": {
        "id": "1C-i4Zwe4pz5",
        "colab_type": "text"
      },
      "source": [
        "## Initialising the dataset and assigning x and y"
      ]
    },
    {
      "cell_type": "code",
      "metadata": {
        "id": "E9gLfHFP39LJ",
        "colab_type": "code",
        "colab": {
          "base_uri": "https://localhost:8080/",
          "height": 252
        },
        "outputId": "384987d5-2d60-47df-93c3-1362c0002735"
      },
      "source": [
        "import pandas as pd\n",
        "import numpy as np\n",
        "data = pd.read_csv('data.csv', header = 0)\n",
        "data.drop(data.columns[0], axis = 1, inplace = True)\n",
        "x = data.iloc[: ,0:6]\n",
        "y = data['Chance of Admit ']\n",
        "print(x)"
      ],
      "execution_count": 49,
      "outputs": [
        {
          "output_type": "stream",
          "text": [
            "     GRE Score  TOEFL Score  University Rating  SOP  LOR   CGPA\n",
            "0          337          118                  4  4.5   4.5  9.65\n",
            "1          324          107                  4  4.0   4.5  8.87\n",
            "2          316          104                  3  3.0   3.5  8.00\n",
            "3          322          110                  3  3.5   2.5  8.67\n",
            "4          314          103                  2  2.0   3.0  8.21\n",
            "..         ...          ...                ...  ...   ...   ...\n",
            "395        324          110                  3  3.5   3.5  9.04\n",
            "396        325          107                  3  3.0   3.5  9.11\n",
            "397        330          116                  4  5.0   4.5  9.45\n",
            "398        312          103                  3  3.5   4.0  8.78\n",
            "399        333          117                  4  5.0   4.0  9.66\n",
            "\n",
            "[400 rows x 6 columns]\n"
          ],
          "name": "stdout"
        }
      ]
    },
    {
      "cell_type": "markdown",
      "metadata": {
        "id": "NmfcvyE745UN",
        "colab_type": "text"
      },
      "source": [
        "## Splitting and Scaling"
      ]
    },
    {
      "cell_type": "code",
      "metadata": {
        "id": "_f0Fs3qcjnUz",
        "colab_type": "code",
        "colab": {
          "base_uri": "https://localhost:8080/",
          "height": 34
        },
        "outputId": "a223029e-bd0f-423b-85ce-d1351c641638"
      },
      "source": [
        "from sklearn.model_selection import train_test_split\n",
        "X_train, X_test, y_train, y_test = train_test_split(x,y, test_size = 0.33 )\n",
        "from sklearn.preprocessing import StandardScaler\n",
        "scaler = StandardScaler()\n",
        "X_train = scaler.fit_transform(X_train)\n",
        "X_test = scaler.transform(X_test)\n",
        "X_train = X_train.T\n",
        "print(X_train.shape[1])"
      ],
      "execution_count": 50,
      "outputs": [
        {
          "output_type": "stream",
          "text": [
            "268\n"
          ],
          "name": "stdout"
        }
      ]
    },
    {
      "cell_type": "markdown",
      "metadata": {
        "id": "ZLID7iXM49x5",
        "colab_type": "text"
      },
      "source": [
        "## Linear Regression Function"
      ]
    },
    {
      "cell_type": "code",
      "metadata": {
        "id": "ws_EK7QblloQ",
        "colab_type": "code",
        "colab": {
          "base_uri": "https://localhost:8080/",
          "height": 50
        },
        "outputId": "d92de864-8158-48d9-c636-795c9c2228fc"
      },
      "source": [
        "epoch = 1000\n",
        "lr = 0.001\n",
        "J = 0 \n",
        "db = 0\n",
        "w = [0.1,0.1,0.1,0.1,0.1,0.1]\n",
        "dw = [0,0,0,0,0,0]\n",
        "b =1\n",
        "count = 0\n",
        "loss = []\n",
        "for i in range(epoch):\n",
        "  z = np.dot(np.transpose(w), X_train) + b\n",
        "  count = count+1\n",
        "  A = 1/(1 + np.exp(-z)) \n",
        "  dz = A - y_train\n",
        "  loss.append(dz)\n",
        "  dw = (1/268)*np.dot(X_train, np.transpose(dz))\n",
        "  db = (1/268)*np.sum(dz)\n",
        "  w = w - (lr*dw)\n",
        "  b = b - (lr*dw)\n",
        "  b = b[0]\n",
        "print(w)\n",
        "print(b)\n"
      ],
      "execution_count": 51,
      "outputs": [
        {
          "output_type": "stream",
          "text": [
            "[0.12004887 0.11850614 0.10882819 0.10270492 0.10994141 0.12378328]\n",
            "1.0200488713063962\n"
          ],
          "name": "stdout"
        }
      ]
    },
    {
      "cell_type": "markdown",
      "metadata": {
        "id": "Adqz1eR05M4I",
        "colab_type": "text"
      },
      "source": [
        "## Predicting for X_test based on obtained values of w and b "
      ]
    },
    {
      "cell_type": "code",
      "metadata": {
        "id": "vu71o27HyA63",
        "colab_type": "code",
        "colab": {}
      },
      "source": [
        "X_test = X_test.T\n",
        "z = np.dot(np.transpose(w), X_test) + b\n",
        "A = 1/(1 + np.exp(-z)) "
      ],
      "execution_count": 52,
      "outputs": []
    },
    {
      "cell_type": "markdown",
      "metadata": {
        "id": "9I1ogIPD5WsL",
        "colab_type": "text"
      },
      "source": [
        "## Calculating the accuracy keeping tolerance = 0.07"
      ]
    },
    {
      "cell_type": "code",
      "metadata": {
        "id": "gP7wTRFZy1Du",
        "colab_type": "code",
        "colab": {
          "base_uri": "https://localhost:8080/",
          "height": 34
        },
        "outputId": "e3e46603-c942-4578-8efe-766f1cdc9ae2"
      },
      "source": [
        "import math\n",
        "tolerance = 0.07\n",
        "accuracy = (np.abs(A - y_test) < tolerance ).mean()\n",
        "print(accuracy)\n"
      ],
      "execution_count": 53,
      "outputs": [
        {
          "output_type": "stream",
          "text": [
            "0.7045454545454546\n"
          ],
          "name": "stdout"
        }
      ]
    }
  ]
}